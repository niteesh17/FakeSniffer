{
 "cells": [
  {
   "cell_type": "markdown",
   "metadata": {},
   "source": [
    "# Import necessary dependencies and settings"
   ]
  },
  {
   "cell_type": "code",
   "execution_count": 1,
   "metadata": {},
   "outputs": [],
   "source": [
    "import pandas as pd\n",
    "import seaborn as sn\n",
    "import numpy as np\n",
    "import matplotlib.pyplot as plt\n",
    "import nltk\n",
    "\n",
    "import sys\n",
    "import os\n",
    "from pyprojroot import here\n",
    "sys.path.append(os.path.join(here(), 'src'))\n",
    "import cleaning\n",
    "\n",
    "%matplotlib inline"
   ]
  },
  {
   "cell_type": "markdown",
   "metadata": {},
   "source": [
    "# Loading the Data"
   ]
  },
  {
   "cell_type": "code",
   "execution_count": 2,
   "metadata": {},
   "outputs": [],
   "source": [
    "header_list = [\"id\", \"label\", \"statement\", \"subject\", \"speaker\", \n",
    "               \"speaker_job\", \"speaker_state\", \"speaker_affiliation\", \n",
    "               \"barely_true_counts\", \"false_counts\", \"half_true_counts\", \n",
    "               \"mostly_true_counts\", \"pants_on_fire_counts\", \"context\"]\n",
    "\n",
    "train_data = pd.read_csv('../data/raw/train.tsv', sep='\\t',  names=header_list)\n",
    "val_data = pd.read_csv('../data/raw/valid.tsv', sep='\\t',  names=header_list)\n",
    "test_data = pd.read_csv('../data/raw/test.tsv', sep='\\t', names=header_list)"
   ]
  },
  {
   "cell_type": "markdown",
   "metadata": {},
   "source": [
    "# Dropping nonmandatory features"
   ]
  },
  {
   "cell_type": "code",
   "execution_count": 3,
   "metadata": {},
   "outputs": [
    {
     "name": "stdout",
     "output_type": "stream",
     "text": [
      "['id', 'label', 'statement', 'subject', 'speaker', 'speaker_job', 'speaker_state', 'speaker_affiliation', 'barely_true_counts', 'false_counts', 'half_true_counts', 'mostly_true_counts', 'pants_on_fire_counts', 'context']\n"
     ]
    }
   ],
   "source": [
    "print(train_data.columns.to_list())\n",
    "# print(val_data.columns.to_list())\n",
    "# print(test_data.columns.to_list())"
   ]
  },
  {
   "cell_type": "markdown",
   "metadata": {},
   "source": [
    "Training, Validation and test datasets contain 14 features such as id, label, statement and speaker, speaker_job, speaker_state etc.\n",
    "To build a fake news prediction model, we don't need speaker-related information as the speaker will not always be consistent. It will keep on changing. So, we are just keeping \"statement\" and \"label\"."
   ]
  },
  {
   "cell_type": "code",
   "execution_count": 4,
   "metadata": {},
   "outputs": [],
   "source": [
    "train = train_data[['label', 'statement']]\n",
    "val = val_data[['label', 'statement']]\n",
    "test = test_data[['label', 'statement']]"
   ]
  },
  {
   "cell_type": "markdown",
   "metadata": {},
   "source": [
    "# Data analysis"
   ]
  },
  {
   "cell_type": "code",
   "execution_count": 5,
   "metadata": {},
   "outputs": [],
   "source": [
    "#data observation\n",
    "def data_obs():\n",
    "    \"\"\"\n",
    "    Function to check the shape and first 5 rows of the datasets\n",
    "    \"\"\"\n",
    "    print(\"training dataset size:\")\n",
    "    print(train.shape)\n",
    "    print(train.head())\n",
    "\n",
    "    print(\"validation dataset size:\")\n",
    "    print(val.shape)\n",
    "    print(val.head())\n",
    "    \n",
    "    print(\"test dataset size:\")\n",
    "    print(test.shape)\n",
    "    print(test.head())"
   ]
  },
  {
   "cell_type": "markdown",
   "metadata": {},
   "source": []
  },
  {
   "cell_type": "code",
   "execution_count": 6,
   "metadata": {},
   "outputs": [
    {
     "name": "stdout",
     "output_type": "stream",
     "text": [
      "training dataset size:\n",
      "(10240, 2)\n",
      "         label                                          statement\n",
      "0        false  Says the Annies List political group supports ...\n",
      "1    half-true  When did the decline of coal start? It started...\n",
      "2  mostly-true  Hillary Clinton agrees with John McCain \"by vo...\n",
      "3        false  Health care reform legislation is likely to ma...\n",
      "4    half-true  The economic turnaround started at the end of ...\n",
      "validation dataset size:\n",
      "(1284, 2)\n",
      "         label                                          statement\n",
      "0  barely-true  We have less Americans working now than in the...\n",
      "1   pants-fire  When Obama was sworn into office, he DID NOT u...\n",
      "2        false  Says Having organizations parading as being so...\n",
      "3    half-true     Says nearly half of Oregons children are poor.\n",
      "4    half-true  On attacks by Republicans that various program...\n",
      "test dataset size:\n",
      "(1267, 2)\n",
      "        label                                          statement\n",
      "0        true  Building a wall on the U.S.-Mexico border will...\n",
      "1       false  Wisconsin is on pace to double the number of l...\n",
      "2       false  Says John McCain has done nothing to help the ...\n",
      "3   half-true  Suzanne Bonamici supports a plan that will cut...\n",
      "4  pants-fire  When asked by a reporter whether hes at the ce...\n"
     ]
    }
   ],
   "source": [
    "data_obs()"
   ]
  },
  {
   "cell_type": "code",
   "execution_count": 7,
   "metadata": {},
   "outputs": [
    {
     "name": "stdout",
     "output_type": "stream",
     "text": [
      "Says that Tennessee law requires that schools receive half of proceeds -- $31 million per year -- from a half-cent increase in the Shelby County sales tax.\n"
     ]
    }
   ],
   "source": [
    "print(test.iloc[6]['statement'])"
   ]
  },
  {
   "cell_type": "markdown",
   "metadata": {},
   "source": [
    "# Data Quality Check"
   ]
  },
  {
   "cell_type": "markdown",
   "metadata": {},
   "source": [
    "**The info() method prints information about a DataFrame including the index dtype and columns, non-null values and memory usage.**"
   ]
  },
  {
   "cell_type": "code",
   "execution_count": 8,
   "metadata": {},
   "outputs": [],
   "source": [
    "#data integrity check (missing label values)\n",
    "#none of the datasets contains missing values therefore no cleaning required\n",
    "def data_qualityCheck():\n",
    "    \n",
    "    print(\"Checking train data qualitites...\")\n",
    "    print(train.isnull().sum())\n",
    "    print(train.info())\n",
    "        \n",
    "    print(\"check finished...\")\n",
    "    print()\n",
    "\n",
    "    print(\"Checking test data qualitites...\")\n",
    "    print(test.isnull().sum())\n",
    "    print(test.info())\n",
    "    print(\"check finished...\")\n",
    "    print()\n",
    "    \n",
    "    print(\"Checking validation data qualitites...\")\n",
    "    print(val.isnull().sum())\n",
    "    print(val.info())"
   ]
  },
  {
   "cell_type": "code",
   "execution_count": 9,
   "metadata": {},
   "outputs": [
    {
     "name": "stdout",
     "output_type": "stream",
     "text": [
      "Checking train data qualitites...\n",
      "label        0\n",
      "statement    0\n",
      "dtype: int64\n",
      "<class 'pandas.core.frame.DataFrame'>\n",
      "RangeIndex: 10240 entries, 0 to 10239\n",
      "Data columns (total 2 columns):\n",
      " #   Column     Non-Null Count  Dtype \n",
      "---  ------     --------------  ----- \n",
      " 0   label      10240 non-null  object\n",
      " 1   statement  10240 non-null  object\n",
      "dtypes: object(2)\n",
      "memory usage: 160.1+ KB\n",
      "None\n",
      "check finished...\n",
      "\n",
      "Checking test data qualitites...\n",
      "label        0\n",
      "statement    0\n",
      "dtype: int64\n",
      "<class 'pandas.core.frame.DataFrame'>\n",
      "RangeIndex: 1267 entries, 0 to 1266\n",
      "Data columns (total 2 columns):\n",
      " #   Column     Non-Null Count  Dtype \n",
      "---  ------     --------------  ----- \n",
      " 0   label      1267 non-null   object\n",
      " 1   statement  1267 non-null   object\n",
      "dtypes: object(2)\n",
      "memory usage: 19.9+ KB\n",
      "None\n",
      "check finished...\n",
      "\n",
      "Checking validation data qualitites...\n",
      "label        0\n",
      "statement    0\n",
      "dtype: int64\n",
      "<class 'pandas.core.frame.DataFrame'>\n",
      "RangeIndex: 1284 entries, 0 to 1283\n",
      "Data columns (total 2 columns):\n",
      " #   Column     Non-Null Count  Dtype \n",
      "---  ------     --------------  ----- \n",
      " 0   label      1284 non-null   object\n",
      " 1   statement  1284 non-null   object\n",
      "dtypes: object(2)\n",
      "memory usage: 20.2+ KB\n",
      "None\n"
     ]
    }
   ],
   "source": [
    "data_qualityCheck()"
   ]
  },
  {
   "cell_type": "markdown",
   "metadata": {},
   "source": [
    "There are not a single null values or missing data. We are good to go."
   ]
  },
  {
   "cell_type": "markdown",
   "metadata": {},
   "source": [
    "# Label Distribution"
   ]
  },
  {
   "cell_type": "markdown",
   "metadata": {},
   "source": [
    "## Labels by count"
   ]
  },
  {
   "cell_type": "code",
   "execution_count": 10,
   "metadata": {},
   "outputs": [
    {
     "data": {
      "text/plain": [
       "6"
      ]
     },
     "execution_count": 10,
     "metadata": {},
     "output_type": "execute_result"
    }
   ],
   "source": [
    "len(set(train_data['label'].values))"
   ]
  },
  {
   "cell_type": "code",
   "execution_count": 11,
   "metadata": {},
   "outputs": [
    {
     "name": "stdout",
     "output_type": "stream",
     "text": [
      "half-true      2114\n",
      "false          1995\n",
      "mostly-true    1962\n",
      "true           1676\n",
      "barely-true    1654\n",
      "pants-fire      839\n",
      "Name: label, dtype: int64\n",
      "false          263\n",
      "mostly-true    251\n",
      "half-true      248\n",
      "barely-true    237\n",
      "true           169\n",
      "pants-fire     116\n",
      "Name: label, dtype: int64\n",
      "half-true      265\n",
      "false          249\n",
      "mostly-true    241\n",
      "barely-true    212\n",
      "true           208\n",
      "pants-fire      92\n",
      "Name: label, dtype: int64\n"
     ]
    }
   ],
   "source": [
    "print(train_data['label'].value_counts())\n",
    "print(val_data['label'].value_counts())\n",
    "print(test_data['label'].value_counts())"
   ]
  },
  {
   "cell_type": "code",
   "execution_count": 12,
   "metadata": {},
   "outputs": [],
   "source": [
    "# #distribution of classes for prediction\n",
    "# def create_distribution(dataFile):\n",
    "    \n",
    "#     return sn.countplot(x='label', data=dataFile, palette='hls')"
   ]
  },
  {
   "cell_type": "code",
   "execution_count": 13,
   "metadata": {},
   "outputs": [
    {
     "data": {
      "text/plain": [
       "<matplotlib.axes._subplots.AxesSubplot at 0x118a0dbb0>"
      ]
     },
     "execution_count": 13,
     "metadata": {},
     "output_type": "execute_result"
    },
    {
     "data": {
      "image/png": "[encoded data removed]",
      "text/plain": [
       "<Figure size 432x288 with 1 Axes>"
      ]
     },
     "metadata": {
      "needs_background": "light"
     },
     "output_type": "display_data"
    }
   ],
   "source": [
    "create_distribution(train)"
   ]
  },
  {
   "cell_type": "code",
   "execution_count": 14,
   "metadata": {},
   "outputs": [
    {
     "data": {
      "text/plain": [
       "<matplotlib.axes._subplots.AxesSubplot at 0x11a4720a0>"
      ]
     },
     "execution_count": 14,
     "metadata": {},
     "output_type": "execute_result"
    },
    {
     "data": {
      "image/png": "[encoded data removed]",
      "text/plain": [
       "<Figure size 432x288 with 1 Axes>"
      ]
     },
     "metadata": {
      "needs_background": "light"
     },
     "output_type": "display_data"
    }
   ],
   "source": [
    "create_distribution(test)"
   ]
  },
  {
   "cell_type": "code",
   "execution_count": 15,
   "metadata": {},
   "outputs": [
    {
     "data": {
      "text/plain": [
       "<matplotlib.axes._subplots.AxesSubplot at 0x11a5173a0>"
      ]
     },
     "execution_count": 15,
     "metadata": {},
     "output_type": "execute_result"
    },
    {
     "data": {
      "image/png": "[encoded data removed]",
      "text/plain": [
       "<Figure size 432x288 with 1 Axes>"
      ]
     },
     "metadata": {
      "needs_background": "light"
     },
     "output_type": "display_data"
    }
   ],
   "source": [
    "create_distribution(val)"
   ]
  },
  {
   "cell_type": "markdown",
   "metadata": {},
   "source": [
    "From the above distribution plots, it is evident, majority of the news articles are falling under 'half-true','mostly true' and 'false'lables."
   ]
  },
  {
   "cell_type": "markdown",
   "metadata": {},
   "source": [
    "Using Pandas info() method, we see that there is not any null values in the datasets. "
   ]
  },
  {
   "cell_type": "markdown",
   "metadata": {},
   "source": [
    "## Mapping the lables into 'True' and 'False'\n",
    "\n",
    "1. True -- True\n",
    "2. Mostly-true -- True\n",
    "3. Half-true -- True\n",
    "4. Barely-true -- False\n",
    "5. False -- False\n",
    "6. Pants-fire -- False"
   ]
  },
  {
   "cell_type": "code",
   "execution_count": 16,
   "metadata": {},
   "outputs": [],
   "source": [
    "# def map_lables(train,test,val):\n",
    "#     labels_dict = {'true': 'true','mostly-true': 'true',\n",
    "#                    'half-true':'true', 'false':'false', \n",
    "#                    'barely-true':'false','pants-fire':'false'}\n",
    "    \n",
    "#     train= train.replace({\"label\": labels_dict})[['label','statement']]\n",
    "#     test = test.replace({\"label\": labels_dict})[['label','statement']]\n",
    "#     val = val.replace({\"label\": labels_dict})[['label','statement']]\n",
    "#     display(train.head(3), test.head(3), val.head(3))\n",
    "    \n",
    "#     return train, test, val  "
   ]
  },
  {
   "cell_type": "code",
   "execution_count": 17,
   "metadata": {},
   "outputs": [],
   "source": [
    "train_news, test_news, val_news = map_lables(train,test,val)"
   ]
  },
  {
   "cell_type": "code",
   "execution_count": 18,
   "metadata": {},
   "outputs": [
    {
     "name": "stdout",
     "output_type": "stream",
     "text": [
      "AxesSubplot(0.125,0.125;0.775x0.755)\n"
     ]
    },
    {
     "data": {
      "image/png": "[encoded data removed]",
      "text/plain": [
       "<Figure size 432x288 with 1 Axes>"
      ]
     },
     "metadata": {
      "needs_background": "light"
     },
     "output_type": "display_data"
    }
   ],
   "source": [
    "print(create_distribution(train_news))"
   ]
  },
  {
   "cell_type": "code",
   "execution_count": 19,
   "metadata": {},
   "outputs": [
    {
     "data": {
      "text/plain": [
       "<matplotlib.axes._subplots.AxesSubplot at 0x11a659a90>"
      ]
     },
     "execution_count": 19,
     "metadata": {},
     "output_type": "execute_result"
    },
    {
     "data": {
      "image/png": "[encoded data removed]",
      "text/plain": [
       "<Figure size 432x288 with 1 Axes>"
      ]
     },
     "metadata": {
      "needs_background": "light"
     },
     "output_type": "display_data"
    }
   ],
   "source": [
    "create_distribution(test_news)"
   ]
  },
  {
   "cell_type": "code",
   "execution_count": 20,
   "metadata": {},
   "outputs": [
    {
     "data": {
      "text/plain": [
       "<matplotlib.axes._subplots.AxesSubplot at 0x118cecd60>"
      ]
     },
     "execution_count": 20,
     "metadata": {},
     "output_type": "execute_result"
    },
    {
     "data": {
      "image/png": "[encoded data removed]",
      "text/plain": [
       "<Figure size 432x288 with 1 Axes>"
      ]
     },
     "metadata": {
      "needs_background": "light"
     },
     "output_type": "display_data"
    }
   ],
   "source": [
    "create_distribution(val_news)"
   ]
  },
  {
   "cell_type": "markdown",
   "metadata": {},
   "source": [
    "By calling distribution funtion on the mapped datasets, we can see that training, test and valid data seems to be failry evenly distributed between the classes."
   ]
  },
  {
   "cell_type": "markdown",
   "metadata": {},
   "source": [
    "## Finding distribution of Statement lengths in News Articles"
   ]
  },
  {
   "cell_type": "code",
   "execution_count": 21,
   "metadata": {
    "scrolled": true
   },
   "outputs": [
    {
     "data": {
      "image/png": "[encoded data removed]",
      "text/plain": [
       "<Figure size 432x288 with 1 Axes>"
      ]
     },
     "metadata": {
      "needs_background": "light"
     },
     "output_type": "display_data"
    }
   ],
   "source": [
    "train_line_lengths = [len(statement) for statement in train_news['statement']]\n",
    "plt.plot(train_line_lengths)\n",
    "plt.show()"
   ]
  },
  {
   "cell_type": "code",
   "execution_count": 22,
   "metadata": {},
   "outputs": [
    {
     "data": {
      "image/png": "[encoded data removed]",
      "text/plain": [
       "<Figure size 432x288 with 1 Axes>"
      ]
     },
     "metadata": {
      "needs_background": "light"
     },
     "output_type": "display_data"
    }
   ],
   "source": [
    "val_line_lengths = [len(statement) for statement in val_news['statement']]\n",
    "plt.plot(val_line_lengths)\n",
    "plt.show()"
   ]
  },
  {
   "cell_type": "code",
   "execution_count": 23,
   "metadata": {},
   "outputs": [
    {
     "data": {
      "image/png": "[encoded data removed]",
      "text/plain": [
       "<Figure size 432x288 with 1 Axes>"
      ]
     },
     "metadata": {
      "needs_background": "light"
     },
     "output_type": "display_data"
    }
   ],
   "source": [
    "test_line_lengths = [len(statement) for statement in test_news['statement']]\n",
    "plt.plot(test_line_lengths)\n",
    "plt.show()"
   ]
  },
  {
   "cell_type": "markdown",
   "metadata": {},
   "source": [
    "**From the distribution above, it is clear that there are some outliers i.e. statements with a quite high length. Lets get into more details and filter the statements with the length higher than 500.**"
   ]
  },
  {
   "cell_type": "code",
   "execution_count": 24,
   "metadata": {},
   "outputs": [],
   "source": [
    "train_news['len'] = [len(statement) for statement in train_news['statement']]"
   ]
  },
  {
   "cell_type": "code",
   "execution_count": 25,
   "metadata": {},
   "outputs": [
    {
     "data": {
      "text/html": [
       "<div>\n",
       "<style scoped>\n",
       "    .dataframe tbody tr th:only-of-type {\n",
       "        vertical-align: middle;\n",
       "    }\n",
       "\n",
       "    .dataframe tbody tr th {\n",
       "        vertical-align: top;\n",
       "    }\n",
       "\n",
       "    .dataframe thead th {\n",
       "        text-align: right;\n",
       "    }\n",
       "</style>\n",
       "<table border=\"1\" class=\"dataframe\">\n",
       "  <thead>\n",
       "    <tr style=\"text-align: right;\">\n",
       "      <th></th>\n",
       "      <th>label</th>\n",
       "      <th>statement</th>\n",
       "      <th>len</th>\n",
       "    </tr>\n",
       "  </thead>\n",
       "  <tbody>\n",
       "    <tr>\n",
       "      <th>1280</th>\n",
       "      <td>true</td>\n",
       "      <td>Hospitals, doctors, MRIs, surgeries and so for...</td>\n",
       "      <td>3192</td>\n",
       "    </tr>\n",
       "    <tr>\n",
       "      <th>2142</th>\n",
       "      <td>false</td>\n",
       "      <td>The fact is that although we have had a presid...</td>\n",
       "      <td>538</td>\n",
       "    </tr>\n",
       "    <tr>\n",
       "      <th>6119</th>\n",
       "      <td>true</td>\n",
       "      <td>Georgia has the most restrictive ballot access...</td>\n",
       "      <td>1592</td>\n",
       "    </tr>\n",
       "    <tr>\n",
       "      <th>7550</th>\n",
       "      <td>false</td>\n",
       "      <td>The vast majority of the money I got was from ...</td>\n",
       "      <td>2099</td>\n",
       "    </tr>\n",
       "  </tbody>\n",
       "</table>\n",
       "</div>"
      ],
      "text/plain": [
       "      label                                          statement   len\n",
       "1280   true  Hospitals, doctors, MRIs, surgeries and so for...  3192\n",
       "2142  false  The fact is that although we have had a presid...   538\n",
       "6119   true  Georgia has the most restrictive ballot access...  1592\n",
       "7550  false  The vast majority of the money I got was from ...  2099"
      ]
     },
     "execution_count": 25,
     "metadata": {},
     "output_type": "execute_result"
    }
   ],
   "source": [
    "train_news[(train_news['len'] > 500)] "
   ]
  },
  {
   "cell_type": "code",
   "execution_count": 26,
   "metadata": {},
   "outputs": [
    {
     "data": {
      "text/html": [
       "<div>\n",
       "<style scoped>\n",
       "    .dataframe tbody tr th:only-of-type {\n",
       "        vertical-align: middle;\n",
       "    }\n",
       "\n",
       "    .dataframe tbody tr th {\n",
       "        vertical-align: top;\n",
       "    }\n",
       "\n",
       "    .dataframe thead th {\n",
       "        text-align: right;\n",
       "    }\n",
       "</style>\n",
       "<table border=\"1\" class=\"dataframe\">\n",
       "  <thead>\n",
       "    <tr style=\"text-align: right;\">\n",
       "      <th></th>\n",
       "      <th>label</th>\n",
       "      <th>statement</th>\n",
       "      <th>len</th>\n",
       "    </tr>\n",
       "  </thead>\n",
       "  <tbody>\n",
       "    <tr>\n",
       "      <th>0</th>\n",
       "      <td>false</td>\n",
       "      <td>Says the Annies List political group supports ...</td>\n",
       "      <td>82</td>\n",
       "    </tr>\n",
       "    <tr>\n",
       "      <th>1</th>\n",
       "      <td>true</td>\n",
       "      <td>When did the decline of coal start? It started...</td>\n",
       "      <td>141</td>\n",
       "    </tr>\n",
       "    <tr>\n",
       "      <th>2</th>\n",
       "      <td>true</td>\n",
       "      <td>Hillary Clinton agrees with John McCain \"by vo...</td>\n",
       "      <td>105</td>\n",
       "    </tr>\n",
       "    <tr>\n",
       "      <th>3</th>\n",
       "      <td>false</td>\n",
       "      <td>Health care reform legislation is likely to ma...</td>\n",
       "      <td>78</td>\n",
       "    </tr>\n",
       "    <tr>\n",
       "      <th>4</th>\n",
       "      <td>true</td>\n",
       "      <td>The economic turnaround started at the end of ...</td>\n",
       "      <td>54</td>\n",
       "    </tr>\n",
       "    <tr>\n",
       "      <th>...</th>\n",
       "      <td>...</td>\n",
       "      <td>...</td>\n",
       "      <td>...</td>\n",
       "    </tr>\n",
       "    <tr>\n",
       "      <th>10235</th>\n",
       "      <td>true</td>\n",
       "      <td>There are a larger number of shark attacks in ...</td>\n",
       "      <td>90</td>\n",
       "    </tr>\n",
       "    <tr>\n",
       "      <th>10236</th>\n",
       "      <td>true</td>\n",
       "      <td>Democrats have now become the party of the [At...</td>\n",
       "      <td>78</td>\n",
       "    </tr>\n",
       "    <tr>\n",
       "      <th>10237</th>\n",
       "      <td>true</td>\n",
       "      <td>Says an alternative to Social Security that op...</td>\n",
       "      <td>176</td>\n",
       "    </tr>\n",
       "    <tr>\n",
       "      <th>10238</th>\n",
       "      <td>false</td>\n",
       "      <td>On lifting the U.S. Cuban embargo and allowing...</td>\n",
       "      <td>62</td>\n",
       "    </tr>\n",
       "    <tr>\n",
       "      <th>10239</th>\n",
       "      <td>false</td>\n",
       "      <td>The Department of Veterans Affairs has a manua...</td>\n",
       "      <td>181</td>\n",
       "    </tr>\n",
       "  </tbody>\n",
       "</table>\n",
       "<p>10240 rows × 3 columns</p>\n",
       "</div>"
      ],
      "text/plain": [
       "       label                                          statement  len\n",
       "0      false  Says the Annies List political group supports ...   82\n",
       "1       true  When did the decline of coal start? It started...  141\n",
       "2       true  Hillary Clinton agrees with John McCain \"by vo...  105\n",
       "3      false  Health care reform legislation is likely to ma...   78\n",
       "4       true  The economic turnaround started at the end of ...   54\n",
       "...      ...                                                ...  ...\n",
       "10235   true  There are a larger number of shark attacks in ...   90\n",
       "10236   true  Democrats have now become the party of the [At...   78\n",
       "10237   true  Says an alternative to Social Security that op...  176\n",
       "10238  false  On lifting the U.S. Cuban embargo and allowing...   62\n",
       "10239  false  The Department of Veterans Affairs has a manua...  181\n",
       "\n",
       "[10240 rows x 3 columns]"
      ]
     },
     "execution_count": 26,
     "metadata": {},
     "output_type": "execute_result"
    }
   ],
   "source": [
    "train_news"
   ]
  },
  {
   "cell_type": "code",
   "execution_count": 27,
   "metadata": {},
   "outputs": [
    {
     "data": {
      "text/plain": [
       "'The vast majority of the money I got was from small donors all across the country.\\'\\'\\tcampaign-finance\\tbarack-obama\\tPresident\\tIllinois\\tdemocrat\\t70\\t71\\t160\\t163\\t9\\tan interview with CNBC\\'s John Harwood \\n5802.json\\ttrue\\tThe Democrat-controlled Senate, it hasnt passed a budget in more than 1,000 days.\\tdeficit,federal-budget,job-accomplishments\\tjohn-boehner\\tSpeaker of the House of Representatives\\tOhio\\trepublican\\t13\\t22\\t11\\t4\\t2\\ta video address\\n6153.json\\thalf-true\\tThe median income in America has dropped by 10 percent in the last four years.\\teconomy,income,jobs\\tmitt-romney\\tFormer governor\\tMassachusetts\\trepublican\\t34\\t32\\t58\\t33\\t19\\ta speech\\n6515.json\\tbarely-true\\tSays U.S. Senate hopeful Tammy Baldwin voted for a $1 trillion stimulus bill that included a wasteful $800,000 to replace light bulbs.\\tenergy,federal-budget,stimulus\\tcrossroads-gps\\tConservative advocacy group\\t\\trepublican\\t9\\t1\\t4\\t1\\t2\\ta television ad\\n385.json\\ttrue\\tSays Clinton did not read the National Intelligence Estimate before voting for the Iraq war.\\tiraq\\tbarack-obama\\tPresident\\tIllinois\\tdemocrat\\t70\\t71\\t160\\t163\\t9\\ta speech in Westerville, Ohio\\n10932.json\\tbarely-true\\tThanks to the Act 10 collective bargaining law that took effect four years ago, ACT scores in Wisconsin are now second-best in the country for states where more than half the kids take the exam.\\teducation,government-regulation,job-accomplishments,labor,unions\\tscott-walker\\tMilwaukee County Executive\\tWisconsin\\trepublican\\t26\\t41\\t32\\t40\\t11\\ta speech\\n5076.json\\tmostly-true\\tOur income, our GDP per capita, is almost 50 percent higher than (it is for) the average European.\\teconomy\\tmitt-romney\\tFormer governor\\tMassachusetts\\trepublican\\t34\\t32\\t58\\t33\\t19\\tan editorial board meeting with an Iowa newspaper\\n12189.json\\thalf-true\\tSays Rick Scott cut Medicaid so people cant get Obamacare.\\thealth-care,medicaid\\trick-scotts-starbucks-heckler\\tActivist, stay-at-home mom\\tFlorida\\tactivist\\t0\\t0\\t2\\t0\\t0\\ta confrontation with Rick Scott at Starbucks\\n945.json\\thalf-true\\tThe stimulus bill includes $8 billion for high-speed rail projects, such as a \\'magnetic levitation\\' line from Las Vegas to Disneyland.\"'"
      ]
     },
     "execution_count": 27,
     "metadata": {},
     "output_type": "execute_result"
    }
   ],
   "source": [
    "train_news.iloc[7550]['statement']"
   ]
  },
  {
   "cell_type": "code",
   "execution_count": 28,
   "metadata": {},
   "outputs": [],
   "source": [
    "test_news['len'] = [len(statement) for statement in test_news['statement']]"
   ]
  },
  {
   "cell_type": "markdown",
   "metadata": {},
   "source": [
    "## Drop the rows with incorrect parsing."
   ]
  },
  {
   "cell_type": "code",
   "execution_count": 29,
   "metadata": {},
   "outputs": [],
   "source": [
    "train_news = train_news[train_news['len'] < 500]\n",
    "test_news = test_news[test_news['len'] < 500]"
   ]
  },
  {
   "cell_type": "markdown",
   "metadata": {},
   "source": [
    "**So, the data was not parsed correctly. For now, I will be just ignoring these rows. More data cleaning will be performed later in the process.** "
   ]
  },
  {
   "cell_type": "markdown",
   "metadata": {},
   "source": [
    "### Saving the processed version of the datasets."
   ]
  },
  {
   "cell_type": "code",
   "execution_count": 30,
   "metadata": {
    "scrolled": true
   },
   "outputs": [],
   "source": [
    "train_news.to_csv('../data/processed/train.csv', index=False)\n",
    "val_news.to_csv('../data/processed/val.csv', index=False)\n",
    "test_news.to_csv('../data/processed/test.csv', index=False)                          "
   ]
  },
  {
   "cell_type": "code",
   "execution_count": null,
   "metadata": {},
   "outputs": [],
   "source": []
  }
 ],
 "metadata": {
  "kernelspec": {
   "display_name": "Python 3",
   "language": "python",
   "name": "python3"
  },
  "language_info": {
   "codemirror_mode": {
    "name": "ipython",
    "version": 3
   },
   "file_extension": ".py",
   "mimetype": "text/x-python",
   "name": "python",
   "nbconvert_exporter": "python",
   "pygments_lexer": "ipython3",
   "version": "3.8.3"
  }
 },
 "nbformat": 4,
 "nbformat_minor": 4
}
